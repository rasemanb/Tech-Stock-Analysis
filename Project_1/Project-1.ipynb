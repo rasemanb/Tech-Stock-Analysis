{
 "cells": [
  {
   "cell_type": "code",
   "execution_count": 2,
   "id": "596b3dee",
   "metadata": {},
   "outputs": [
    {
     "name": "stdout",
     "output_type": "stream",
     "text": [
      "Collecting yFinance\n",
      "  Downloading yfinance-0.1.81-py2.py3-none-any.whl (29 kB)\n",
      "Requirement already satisfied: pandas>=0.24.0 in c:\\users\\nicke\\anaconda3\\envs\\pythondata\\lib\\site-packages (from yFinance) (1.0.5)\n",
      "Collecting appdirs>=1.4.4\n",
      "  Downloading appdirs-1.4.4-py2.py3-none-any.whl (9.6 kB)\n",
      "Requirement already satisfied: numpy>=1.15 in c:\\users\\nicke\\anaconda3\\envs\\pythondata\\lib\\site-packages (from yFinance) (1.18.5)\n",
      "Collecting lxml>=4.5.1\n",
      "  Downloading lxml-4.9.1-cp37-cp37m-win_amd64.whl (3.6 MB)\n",
      "Collecting multitasking>=0.0.7\n",
      "  Downloading multitasking-0.0.11-py3-none-any.whl (8.5 kB)\n",
      "Requirement already satisfied: requests>=2.26 in c:\\users\\nicke\\anaconda3\\envs\\pythondata\\lib\\site-packages (from yFinance) (2.27.1)\n",
      "Requirement already satisfied: pytz>=2017.2 in c:\\users\\nicke\\anaconda3\\envs\\pythondata\\lib\\site-packages (from pandas>=0.24.0->yFinance) (2020.1)\n",
      "Requirement already satisfied: python-dateutil>=2.6.1 in c:\\users\\nicke\\anaconda3\\envs\\pythondata\\lib\\site-packages (from pandas>=0.24.0->yFinance) (2.8.1)\n",
      "Requirement already satisfied: urllib3<1.27,>=1.21.1 in c:\\users\\nicke\\anaconda3\\envs\\pythondata\\lib\\site-packages (from requests>=2.26->yFinance) (1.26.9)\n",
      "Requirement already satisfied: charset-normalizer~=2.0.0; python_version >= \"3\" in c:\\users\\nicke\\anaconda3\\envs\\pythondata\\lib\\site-packages (from requests>=2.26->yFinance) (2.0.12)\n",
      "Requirement already satisfied: idna<4,>=2.5; python_version >= \"3\" in c:\\users\\nicke\\anaconda3\\envs\\pythondata\\lib\\site-packages (from requests>=2.26->yFinance) (3.3)\n",
      "Requirement already satisfied: certifi>=2017.4.17 in c:\\users\\nicke\\anaconda3\\envs\\pythondata\\lib\\site-packages (from requests>=2.26->yFinance) (2022.9.24)\n",
      "Requirement already satisfied: six>=1.5 in c:\\users\\nicke\\anaconda3\\envs\\pythondata\\lib\\site-packages (from python-dateutil>=2.6.1->pandas>=0.24.0->yFinance) (1.15.0)\n",
      "Installing collected packages: appdirs, lxml, multitasking, yFinance\n",
      "Successfully installed appdirs-1.4.4 lxml-4.9.1 multitasking-0.0.11 yFinance-0.1.81\n"
     ]
    }
   ],
   "source": [
    "import pandas as pd\n"
   ]
  }
 ],
 "metadata": {
  "kernelspec": {
   "display_name": "PythonData",
   "language": "python",
   "name": "pythondata"
  },
  "language_info": {
   "codemirror_mode": {
    "name": "ipython",
    "version": 3
   },
   "file_extension": ".py",
   "mimetype": "text/x-python",
   "name": "python",
   "nbconvert_exporter": "python",
   "pygments_lexer": "ipython3",
   "version": "3.7.7"
  }
 },
 "nbformat": 4,
 "nbformat_minor": 5
}
